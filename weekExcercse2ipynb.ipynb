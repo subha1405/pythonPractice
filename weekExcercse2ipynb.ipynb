{
  "nbformat": 4,
  "nbformat_minor": 0,
  "metadata": {
    "colab": {
      "provenance": [],
      "authorship_tag": "ABX9TyMByBD73jirdMQaJxOtyZNO",
      "include_colab_link": true
    },
    "kernelspec": {
      "name": "python3",
      "display_name": "Python 3"
    },
    "language_info": {
      "name": "python"
    }
  },
  "cells": [
    {
      "cell_type": "markdown",
      "metadata": {
        "id": "view-in-github",
        "colab_type": "text"
      },
      "source": [
        "<a href=\"https://colab.research.google.com/github/subha1405/pythonPractice/blob/main/weekExcercse2ipynb.ipynb\" target=\"_parent\"><img src=\"https://colab.research.google.com/assets/colab-badge.svg\" alt=\"Open In Colab\"/></a>"
      ]
    },
    {
      "cell_type": "code",
      "execution_count": 2,
      "metadata": {
        "colab": {
          "base_uri": "https://localhost:8080/"
        },
        "id": "5Tgj5S4dwHEQ",
        "outputId": "8fdabff2-f1a7-4487-8268-dd23bd3ce149"
      },
      "outputs": [
        {
          "output_type": "stream",
          "name": "stdout",
          "text": [
            "Enter the number23\n",
            "Enter the number20\n",
            "Enter the number4\n",
            "47\n"
          ]
        }
      ],
      "source": [
        "a=int(input(\"Enter the number\"))\n",
        "b=int(input(\"Enter the number\"))\n",
        "c=int(input(\"Enter the number\"))\n",
        "sum=a+b+c\n",
        "print(sum)"
      ]
    },
    {
      "cell_type": "code",
      "source": [
        "a=str(input(\"Enter your name\"))\n",
        "print(\"Hi\",a)"
      ],
      "metadata": {
        "colab": {
          "base_uri": "https://localhost:8080/"
        },
        "id": "4iP4Hsqgw9rV",
        "outputId": "b948810c-5ca4-4162-ca67-660ec4a6893d"
      },
      "execution_count": 5,
      "outputs": [
        {
          "output_type": "stream",
          "name": "stdout",
          "text": [
            "Enter your nameShankar\n",
            "Hi Shankar\n"
          ]
        }
      ]
    },
    {
      "cell_type": "code",
      "source": [
        "a=int(input(\"Enter the number\"))\n",
        "sq=a*a\n",
        "print(\"Square of a number=\",sq)"
      ],
      "metadata": {
        "colab": {
          "base_uri": "https://localhost:8080/"
        },
        "id": "uXAIKptwxTW9",
        "outputId": "b603412f-12cc-4091-fefe-db6ea444fe3f"
      },
      "execution_count": 6,
      "outputs": [
        {
          "output_type": "stream",
          "name": "stdout",
          "text": [
            "Enter the number4\n",
            "Square of a number= 16\n"
          ]
        }
      ]
    },
    {
      "cell_type": "code",
      "source": [
        "l=float(input(\"Enter the Length of a triangle\"))\n",
        "h=float(input(\"Enter the height of a triangle\"))\n",
        "area=0.5*l*h\n",
        "print(\"Area of a triangle is=\",area)"
      ],
      "metadata": {
        "colab": {
          "base_uri": "https://localhost:8080/"
        },
        "id": "I2V34l1a0KtO",
        "outputId": "85b3cc66-4f0c-4c74-ac33-d6e3098ee7b7"
      },
      "execution_count": 10,
      "outputs": [
        {
          "output_type": "stream",
          "name": "stdout",
          "text": [
            "Enter the Length of a triangle45\n",
            "Enter the height of a triangle55\n",
            "Area of a triangle is= 1237.5\n"
          ]
        }
      ]
    },
    {
      "cell_type": "code",
      "source": [
        "N=int(input(\"Enter the number of students\"))\n",
        "A=int(input(\"Enter the number of apples\"))\n",
        "B=A//N\n",
        "C=A%N\n",
        "print(\"Number of apples each student will get\",B)\n",
        "print(\"Number of apples will remain in the basket\",C)\n"
      ],
      "metadata": {
        "colab": {
          "base_uri": "https://localhost:8080/"
        },
        "id": "NRag_pCzxleB",
        "outputId": "f8005683-5ac3-4a9f-be63-85e94423cee7"
      },
      "execution_count": 12,
      "outputs": [
        {
          "output_type": "stream",
          "name": "stdout",
          "text": [
            "Enter the number of students10\n",
            "Enter the number of apples89\n",
            "Number of apples each student will get 8\n",
            "Number of apples will remain in the basket 9\n"
          ]
        }
      ]
    },
    {
      "cell_type": "code",
      "source": [
        "a=int(input(\"Enter the number\"))\n",
        "x=a-1\n",
        "y=a+1\n",
        "print(\"Previous Number=\",x)\n",
        "print(\"Next number=\",y)"
      ],
      "metadata": {
        "colab": {
          "base_uri": "https://localhost:8080/"
        },
        "id": "HC6FPuKFx3jG",
        "outputId": "c4a92d28-d41d-4221-ae1e-0d1af4dc32c7"
      },
      "execution_count": 7,
      "outputs": [
        {
          "output_type": "stream",
          "name": "stdout",
          "text": [
            "Enter the number45\n",
            "Previous Number= 44\n",
            "Next number= 46\n"
          ]
        }
      ]
    }
  ]
}